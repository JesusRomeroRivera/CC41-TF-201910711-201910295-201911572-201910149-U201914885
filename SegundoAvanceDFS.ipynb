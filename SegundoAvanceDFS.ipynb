{
  "nbformat": 4,
  "nbformat_minor": 0,
  "metadata": {
    "colab": {
      "name": "SegundoAvanceDFS.ipynb",
      "provenance": []
    },
    "kernelspec": {
      "name": "python3",
      "display_name": "Python 3"
    },
    "language_info": {
      "name": "python"
    }
  },
  "cells": [
    {
      "cell_type": "markdown",
      "metadata": {
        "id": "7pm00BtOdMBU"
      },
      "source": [
        "**DFS**"
      ]
    },
    {
      "cell_type": "code",
      "metadata": {
        "id": "mfjLbOb5dIhI"
      },
      "source": [
        "def dfs(G):\n",
        "    S,res=set(),[]\n",
        "\n",
        "    def recurse(u):\n",
        "        if u in S: return\n",
        "        S.add(u)\n",
        "        for v in G[u]:\n",
        "            recurse(v)\n",
        "        res.append(u)\n",
        "\n",
        "    for u in G:\n",
        "        recurse(u)\n",
        "    res.reverse()\n",
        "\n",
        "    return res"
      ],
      "execution_count": null,
      "outputs": []
    },
    {
      "cell_type": "code",
      "metadata": {
        "id": "vf7PQnSxdMiG"
      },
      "source": [
        "def dfs_grupo(grupo, plt=None, ciudad = 60):\n",
        "  nodelist = grupo[\"puntosEntrega\"]\n",
        "  nodelist.append(grupo[\"almacen\"])\n",
        "  label = list()\n",
        "  for nodo in nodelist:\n",
        "    label.append(str(get_grupo(nodo, ciudad)))\n",
        "  grafo = [[] for _ in range(len(nodelist))]\n",
        "  for i, _ in enumerate(nodelist):\n",
        "    for j, _ in enumerate(nodelist):\n",
        "      if i == j: continue\n",
        "      grafo[i].append((j, manhattan_distance(nodelist[i], nodelist[j])))\n",
        "  path = dfs(grafo)\n",
        "  if(plt == None): return MostrarGrupo(grafo, weighted=True, path=path, labels=label)"
      ],
      "execution_count": null,
      "outputs": []
    }
  ]
}