{
  "nbformat": 4,
  "nbformat_minor": 0,
  "metadata": {
    "colab": {
      "name": "Untitled0.ipynb",
      "provenance": [],
      "authorship_tag": "ABX9TyM3fOcRFpOzsdnC8Nl3On44",
      "include_colab_link": true
    },
    "kernelspec": {
      "name": "python3",
      "display_name": "Python 3"
    },
    "language_info": {
      "name": "python"
    }
  },
  "cells": [
    {
      "cell_type": "markdown",
      "metadata": {
        "id": "view-in-github",
        "colab_type": "text"
      },
      "source": [
        "<a href=\"https://colab.research.google.com/github/JesusRomeroRivera/cc41-tf-201910711-201910295-201911572-201910149-201914885/blob/main/Primera%20versi%C3%B3n%20DFS.ipynb\" target=\"_parent\"><img src=\"https://colab.research.google.com/assets/colab-badge.svg\" alt=\"Open In Colab\"/></a>"
      ]
    },
    {
      "cell_type": "markdown",
      "metadata": {
        "id": "fWdgPz3lfgu9"
      },
      "source": [
        "Implementación de DFS"
      ]
    },
    {
      "cell_type": "code",
      "metadata": {
        "colab": {
          "base_uri": "https://localhost:8080/"
        },
        "id": "yy6NRwEYfc3l",
        "outputId": "7bb8bf7b-5d12-4ad4-cfa5-66898931e8e8"
      },
      "source": [
        "# Grafo representado por lista de adyacencia\n",
        "graph = {\n",
        "    'A' : ['B','C'],\n",
        "    'B' : ['D', 'E'],\n",
        "    'C' : ['F'],\n",
        "    'D' : [],\n",
        "    'E' : ['F'],\n",
        "    'F' : []\n",
        "}\n",
        "\n",
        "# Set que almacena los nodos visitados\n",
        "visited = set()\n",
        "\n",
        "def dfs(visited, graph, node):\n",
        "    if node not in visited: # Si el nodo no está visitado\n",
        "        print (node) # Se imprime\n",
        "        visited.add(node) # Y se añade al set visited\n",
        "        for neighbour in graph[node]: # Por cada vecino del nodo del grafo \n",
        "            dfs(visited, graph, neighbour) # Se llama a la función recursivamente\n",
        "\n",
        "# Se llama a la función y se le pasa de parámetros el set visited, el grafo y el nodo inicial.\n",
        "dfs(visited, graph, 'A')"
      ],
      "execution_count": 12,
      "outputs": [
        {
          "output_type": "stream",
          "name": "stdout",
          "text": [
            "A\n",
            "B\n",
            "D\n",
            "E\n",
            "F\n",
            "C\n"
          ]
        }
      ]
    }
  ]
}